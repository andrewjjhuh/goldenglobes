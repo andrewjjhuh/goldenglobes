{
  "nbformat": 4,
  "nbformat_minor": 0,
  "metadata": {
    "colab": {
      "name": "NLP.ipynb",
      "provenance": [],
      "collapsed_sections": []
    },
    "kernelspec": {
      "name": "python3",
      "display_name": "Python 3"
    },
    "language_info": {
      "name": "python"
    }
  },
  "cells": [
    {
      "cell_type": "code",
      "metadata": {
        "id": "__wFllgtm1eR"
      },
      "source": [
        "import json\n",
        "import spacy\n",
        "import re\n",
        "import difflib as dl\n",
        "file_path = '/content/drive/MyDrive/NLP/gg2013.json'\n",
        "\n",
        "#source1=https://catriscode.com/2021/03/02/extracting-or-removing-mentions-and-hashtags-in-tweets-using-python/\n",
        "#source2== https://stackoverflow.com/questions/38365389/compare-similarity-between-names/38365913"
      ],
      "execution_count": 36,
      "outputs": []
    },
    {
      "cell_type": "code",
      "metadata": {
        "id": "crvyT2zhw2w2"
      },
      "source": [
        "import re, math\n",
        "from collections import Counter\n",
        "\n",
        "WORD = re.compile(r'\\w+')\n",
        "\n",
        "def get_cosine(vec1, vec2):\n",
        "    # print vec1, vec2\n",
        "    intersection = set(vec1.keys()) & set(vec2.keys())\n",
        "    numerator = sum([vec1[x] * vec2[x] for x in intersection])\n",
        "\n",
        "    sum1 = sum([vec1[x]**2 for x in vec1.keys()])\n",
        "    sum2 = sum([vec2[x]**2 for x in vec2.keys()])\n",
        "    denominator = math.sqrt(sum1) * math.sqrt(sum2)\n",
        "\n",
        "    if not denominator:\n",
        "        return 0.0\n",
        "    else:\n",
        "        return float(numerator) / denominator\n",
        "\n",
        "def text_to_vector(text):\n",
        "    return Counter(WORD.findall(text))\n",
        "\n",
        "def get_similarity(a, b):\n",
        "    a = text_to_vector(a.strip().lower())\n",
        "    b = text_to_vector(b.strip().lower())\n",
        "\n",
        "    return get_cosine(a, b)"
      ],
      "execution_count": 37,
      "outputs": []
    },
    {
      "cell_type": "code",
      "metadata": {
        "id": "Vdd3iYKTm2lg"
      },
      "source": [
        "f = open(file_path)\n",
        "data = json.load(f)\n",
        "nlp = spacy.load(\"en_core_web_sm\")\n",
        "tweet_texts = []\n",
        "\n",
        "for tweet in data:\n",
        "  cleaned_tweet = re.sub('#([a-zA-Z0-9_]{1,50})', '', tweet['text'])\n",
        "  cleaned_tweet = re.sub('@([a-zA-Z0-9_]{1,50})', '', cleaned_tweet)\n",
        "  cleaned_tweet = cleaned_tweet.lower()\n",
        "  if 'rt:' not in cleaned_tweet:\n",
        "    tweet_texts.append(cleaned_tweet)"
      ],
      "execution_count": 38,
      "outputs": []
    },
    {
      "cell_type": "code",
      "metadata": {
        "id": "DYH_LBNRm9Gh"
      },
      "source": [
        "host_key_words ='will be hosting|are hosting|is hosting|hosted'\n",
        "hosts = {}\n",
        "for tweet_text in tweet_texts:\n",
        "  if re.search(host_key_words,tweet_text):\n",
        "    doc = nlp(tweet_text)\n",
        "    for entity in doc.ents:\n",
        "      if entity.label_ == 'PERSON':\n",
        "        if entity.text in hosts.keys():\n",
        "          hosts[entity.text] = hosts[entity.text] + 1\n",
        "        else:\n",
        "          hosts[entity.text] = 1"
      ],
      "execution_count": 39,
      "outputs": []
    },
    {
      "cell_type": "code",
      "metadata": {
        "id": "IyO2ks96hEQB"
      },
      "source": [
        "hosts = dict(sorted(hosts.items(),key = lambda host:host[1]))"
      ],
      "execution_count": 40,
      "outputs": []
    },
    {
      "cell_type": "code",
      "metadata": {
        "id": "Lku-2SF1izDh"
      },
      "source": [
        "host_names = hosts.keys()\n",
        "for host in list(hosts.keys()):\n",
        "  for small_host in list(hosts.keys()):\n",
        "    if small_host!=host and hosts[small_host]<hosts[host] and get_similarity(host,small_host)>0.7:\n",
        "      if (len(host)==1 and len(small_host)>1):\n",
        "        hosts[small_host] = hosts[host] + hosts[small_host]\n",
        "        hosts.pop(host, None)\n",
        "        break\n",
        "      else:\n",
        "        hosts[host] = hosts[host] + hosts[small_host]\n",
        "        hosts.pop(small_host, None)"
      ],
      "execution_count": 41,
      "outputs": []
    },
    {
      "cell_type": "code",
      "metadata": {
        "colab": {
          "base_uri": "https://localhost:8080/"
        },
        "id": "aTHM3rFTg5YL",
        "outputId": "9cf5eb96-0241-4e66-f7e2-0d928766dd80"
      },
      "source": [
        "actual_hosts = []\n",
        "max = 0\n",
        "for host in hosts.keys():\n",
        "  if hosts[host] >=max:\n",
        "    max = hosts[host]\n",
        "\n",
        "for host in hosts.keys():\n",
        "  if hosts[host]/max >=0.4:\n",
        "    actual_hosts.append(host)\n",
        "    print(host+':'+str(hosts[host]/max))\n",
        "\n",
        "print(actual_hosts)"
      ],
      "execution_count": 42,
      "outputs": [
        {
          "output_type": "stream",
          "name": "stdout",
          "text": [
            "tina:0.42424242424242425\n",
            "amy poehler:1.0\n",
            "['tina', 'amy poehler']\n"
          ]
        }
      ]
    },
    {
      "cell_type": "code",
      "metadata": {
        "id": "urrOTRgDv2_C"
      },
      "source": [
        ""
      ],
      "execution_count": null,
      "outputs": []
    }
  ]
}