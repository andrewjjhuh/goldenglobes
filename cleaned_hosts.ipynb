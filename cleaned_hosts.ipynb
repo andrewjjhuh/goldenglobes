{
  "nbformat": 4,
  "nbformat_minor": 0,
  "metadata": {
    "colab": {
      "name": "cleaned_hosts.ipynb",
      "provenance": [],
      "collapsed_sections": []
    },
    "kernelspec": {
      "name": "python3",
      "display_name": "Python 3"
    },
    "language_info": {
      "name": "python"
    }
  },
  "cells": [
    {
      "cell_type": "code",
      "metadata": {
        "id": "__wFllgtm1eR"
      },
      "source": [
        "import json\n",
        "import spacy\n",
        "import re\n",
        "import difflib as dl\n",
        "file_path = '/content/drive/MyDrive/NLP/gg2013.json'\n",
        "\n",
        "#source1=https://catriscode.com/2021/03/02/extracting-or-removing-mentions-and-hashtags-in-tweets-using-python/\n",
        "#source2== https://stackoverflow.com/questions/38365389/compare-similarity-between-names/38365913\n",
        "#removed source2, didnt seem necessary"
      ],
      "execution_count": 64,
      "outputs": []
    },
    {
      "cell_type": "code",
      "metadata": {
        "id": "crvyT2zhw2w2"
      },
      "source": [
        "#this seemed unncessary but not deleting it yet. this taken from source2\n",
        "import re, math\n",
        "from collections import Counter\n",
        "\n",
        "WORD = re.compile(r'\\w+')\n",
        "\n",
        "def get_cosine(vec1, vec2):\n",
        "    # print vec1, vec2\n",
        "    intersection = set(vec1.keys()) & set(vec2.keys())\n",
        "    numerator = sum([vec1[x] * vec2[x] for x in intersection])\n",
        "\n",
        "    sum1 = sum([vec1[x]**2 for x in vec1.keys()])\n",
        "    sum2 = sum([vec2[x]**2 for x in vec2.keys()])\n",
        "    denominator = math.sqrt(sum1) * math.sqrt(sum2)\n",
        "\n",
        "    if not denominator:\n",
        "        return 0.0\n",
        "    else:\n",
        "        return float(numerator) / denominator\n",
        "\n",
        "def text_to_vector(text):\n",
        "    return Counter(WORD.findall(text))\n",
        "\n",
        "def get_similarity(a, b):\n",
        "    a = text_to_vector(a.strip().lower())\n",
        "    b = text_to_vector(b.strip().lower())\n",
        "\n",
        "    return get_cosine(a, b)"
      ],
      "execution_count": 65,
      "outputs": []
    },
    {
      "cell_type": "code",
      "metadata": {
        "id": "Vdd3iYKTm2lg"
      },
      "source": [
        "f = open(file_path)\n",
        "data = json.load(f)\n",
        "nlp = spacy.load(\"en_core_web_sm\")\n",
        "tweet_texts = []\n",
        "\n",
        "for tweet in data:\n",
        "  cleaned_tweet = re.sub('#([a-zA-Z0-9_]{1,50})', '', tweet['text'])\n",
        "  cleaned_tweet = re.sub('@([a-zA-Z0-9_]{1,50})', '', cleaned_tweet)\n",
        "  if 'rt @' not in cleaned_tweet:\n",
        "    tweet_texts.append(cleaned_tweet)"
      ],
      "execution_count": 66,
      "outputs": []
    },
    {
      "cell_type": "code",
      "metadata": {
        "id": "DYH_LBNRm9Gh"
      },
      "source": [
        "host_key_words ='will be hosting|are hosting|is hosting|hosted'\n",
        "hosts = {}\n",
        "for tweet_text in tweet_texts:\n",
        "  index = re.search(host_key_words,tweet_text)\n",
        "  if (index != None):\n",
        "    #print(tweet_text)\n",
        "    doc = nlp(tweet_text[:index.start()])\n",
        "    for entity in doc.ents:\n",
        "      if entity.label_ == 'PERSON':\n",
        "        if entity.text in hosts.keys():\n",
        "          hosts[entity.text] = hosts[entity.text] + 1\n",
        "        else:\n",
        "          hosts[entity.text] = 1"
      ],
      "execution_count": 67,
      "outputs": []
    },
    {
      "cell_type": "code",
      "metadata": {
        "id": "IyO2ks96hEQB",
        "colab": {
          "base_uri": "https://localhost:8080/"
        },
        "outputId": "e3736330-2161-434f-f368-b9042c02b9e6"
      },
      "source": [
        "hosts = dict(sorted(hosts.items(),key = lambda host:host[1],reverse=True))\n",
        "print(hosts)"
      ],
      "execution_count": 68,
      "outputs": [
        {
          "output_type": "stream",
          "name": "stdout",
          "text": [
            "{'Amy Poehler': 94, 'Tina Fey': 81, 'Amy': 13, 'Tina': 9, 'Faye': 7, 'Amy Pohler': 4, 'Will Ferrell': 4, 'Jennifer Lawrence': 3, 'amy': 2, 'Anne Hathaway': 2, 'Kristen Wiig': 2, 'Kristin Wiig': 2, 'Anne': 2, 'Oscar': 2, 'Ricky Gerva': 2, 'Seth Macfarlane': 2, 'tina fey': 1, 'amy pohler': 1, \"Giuliana Rancic's\": 1, 'Norberry': 1, 'Any Poehler': 1, 'amy poehler': 1, 'tina': 1, 'Kate': 1, 'Angie': 1, 'mah girls tina': 1, 'Maggie Smith': 1, 'Liz': 1, 'Ricky': 1, 'Poehler': 1, 'Will': 1, 'Kristen': 1, 'Yay': 1, 'Neil Patrick Harr': 1, 'Sly': 1, 'Arnold': 1, 'LOL RT': 1, 'Les Miserables': 1, 'Ricky Gervais': 1, 'George Clooney': 1, 'RT  Great': 1, 'Golden Globes': 1}\n"
          ]
        }
      ]
    },
    {
      "cell_type": "code",
      "metadata": {
        "colab": {
          "base_uri": "https://localhost:8080/"
        },
        "id": "LXhSgye4TZvd",
        "outputId": "7aa45c4f-77e7-4452-bc66-e4feb0ee9fad"
      },
      "source": [
        "actual_hosts = []\n",
        "max = 0\n",
        "for host in hosts.keys():\n",
        "  if hosts[host] >=max:\n",
        "    max = hosts[host]\n",
        "\n",
        "for host in hosts.keys():\n",
        "  if hosts[host]/max >=0.5:\n",
        "    actual_hosts.append(host)\n",
        "    #print(host+':'+str(hosts[host]/max))\n",
        "\n",
        "print(actual_hosts)"
      ],
      "execution_count": 69,
      "outputs": [
        {
          "output_type": "stream",
          "name": "stdout",
          "text": [
            "['Amy Poehler', 'Tina Fey']\n"
          ]
        }
      ]
    },
    {
      "cell_type": "code",
      "metadata": {
        "id": "oA6C7ILLVjtC"
      },
      "source": [
        ""
      ],
      "execution_count": null,
      "outputs": []
    }
  ]
}