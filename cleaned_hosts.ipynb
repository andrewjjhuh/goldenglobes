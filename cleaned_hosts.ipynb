{
  "nbformat": 4,
  "nbformat_minor": 0,
  "metadata": {
    "colab": {
      "name": "hostsv3.ipynb",
      "provenance": [],
      "collapsed_sections": []
    },
    "kernelspec": {
      "name": "python3",
      "display_name": "Python 3"
    },
    "language_info": {
      "name": "python"
    }
  },
  "cells": [
    {
      "cell_type": "code",
      "metadata": {
        "id": "__wFllgtm1eR",
        "colab": {
          "base_uri": "https://localhost:8080/"
        },
        "outputId": "eff9be11-18b9-4a3b-95e3-6a30fb2ff94e"
      },
      "source": [
        "import json\n",
        "import spacy\n",
        "import re\n",
        "import difflib as dl\n",
        "from nltk.corpus import stopwords\n",
        "import nltk\n",
        "nltk.download('stopwords')"
      ],
      "execution_count": 3,
      "outputs": [
        {
          "output_type": "stream",
          "name": "stdout",
          "text": [
            "[nltk_data] Downloading package stopwords to /root/nltk_data...\n",
            "[nltk_data]   Package stopwords is already up-to-date!\n"
          ]
        },
        {
          "output_type": "execute_result",
          "data": {
            "text/plain": [
              "True"
            ]
          },
          "metadata": {},
          "execution_count": 3
        }
      ]
    },
    {
      "cell_type": "code",
      "metadata": {
        "id": "crvyT2zhw2w2"
      },
      "source": [
        "def open_jsonfile(data_path):\n",
        "  file_ = open(data_path)\n",
        "  data = json.load(file_)\n",
        "  return data"
      ],
      "execution_count": 4,
      "outputs": []
    },
    {
      "cell_type": "code",
      "metadata": {
        "id": "Vdd3iYKTm2lg"
      },
      "source": [
        "def hosts_relevant_tweets(tweet_data):\n",
        "  relevant_tweets = []\n",
        "  for tweet in tweet_data:\n",
        "    text = tweet['text']\n",
        "    tweet_text = tweet['text']\n",
        "    tweet_text.replace('-',' ')\n",
        "    tweet_text.replace('/',' ')\n",
        "    relevant_tweets.append(tweet_text)\n",
        "  return relevant_tweets"
      ],
      "execution_count": 7,
      "outputs": []
    },
    {
      "cell_type": "code",
      "metadata": {
        "id": "DYH_LBNRm9Gh"
      },
      "source": [
        "host_key_words ='will be hosting|are hosting|is hosting|hosted'\n",
        "tweet_data = open_jsonfile('/content/drive/MyDrive/NLP/gg2013.json')\n",
        "hosts = {}\n",
        "nlp = spacy.load(\"en_core_web_sm\")\n",
        "relevant_tweets = hosts_relevant_tweets(tweet_data)\n",
        "for tweet_text in relevant_tweets:\n",
        "  index = re.search(host_key_words,tweet_text)\n",
        "  if (index != None):\n",
        "    doc = nlp(tweet_text[:index.start()])\n",
        "    for entity in doc.ents:\n",
        "      if entity.label_ == 'PERSON':\n",
        "        if entity.text in hosts.keys():\n",
        "          hosts[entity.text] = hosts[entity.text] + 1\n",
        "        else:\n",
        "          hosts[entity.text] = 1"
      ],
      "execution_count": 32,
      "outputs": []
    },
    {
      "cell_type": "code",
      "metadata": {
        "id": "IyO2ks96hEQB",
        "colab": {
          "base_uri": "https://localhost:8080/"
        },
        "outputId": "98a156d8-35ea-48e2-d33c-52c2c05405dd"
      },
      "source": [
        "hosts = dict(sorted(hosts.items(),key = lambda host:host[1],reverse=True))\n",
        "print(hosts)"
      ],
      "execution_count": 33,
      "outputs": [
        {
          "output_type": "stream",
          "name": "stdout",
          "text": [
            "{'Amy Poehler': 94, 'Tina Fey': 81, 'RT @piersmorgan': 39, 'GoldenGlobes': 18, 'Amy': 13, 'Tina': 8, 'Amy Pohler': 4, 'Will Ferrell': 4, 'Jennifer Lawrence': 3, 'amy': 2, 'Anne Hathaway': 2, 'Kristen Wiig': 2, 'Kristin Wiig': 2, 'Anne': 2, 'Oscar': 2, 'Ricky Gerva': 2, 'Seth Macfarlane': 2, 'tina fey': 1, 'amy pohler': 1, \"Giuliana Rancic's\": 1, 'Norberry': 1, 'Any Poehler': 1, 'amy poehler': 1, 'tina': 1, 'Kate': 1, 'Angie': 1, 'mah girls tina': 1, 'Loooooooool @thealphabetgun': 1, 'TinaFey': 1, 'Maggie Smith': 1, 'Liz': 1, 'Ricky': 1, 'Poehler': 1, 'Will': 1, 'Kristen': 1, 'Neil Patrick Harr': 1, 'Sly': 1, 'Arnold': 1, 'LOL RT': 1, 'Les Miserables': 1, 'Ricky Gervais': 1, 'George Clooney': 1, 'Golden Globes': 1}\n"
          ]
        }
      ]
    },
    {
      "cell_type": "code",
      "metadata": {
        "colab": {
          "base_uri": "https://localhost:8080/"
        },
        "id": "LXhSgye4TZvd",
        "outputId": "aafccd7e-0c7c-413a-8616-2c4c1793b62f"
      },
      "source": [
        "actual_hosts = []\n",
        "for host in hosts.keys():\n",
        "  if len(host.split())!=1:\n",
        "    actual_hosts.append(host)\n",
        "  if len(actual_hosts)==2:\n",
        "    break\n",
        "\n",
        "print(actual_hosts)"
      ],
      "execution_count": 34,
      "outputs": [
        {
          "output_type": "stream",
          "name": "stdout",
          "text": [
            "['Amy Poehler', 'Tina Fey']\n"
          ]
        }
      ]
    }
  ]
}
