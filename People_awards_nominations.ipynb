{
  "nbformat": 4,
  "nbformat_minor": 0,
  "metadata": {
    "colab": {
      "name": "People awards_nominations.ipynb",
      "provenance": [],
      "collapsed_sections": []
    },
    "kernelspec": {
      "name": "python3",
      "display_name": "Python 3"
    },
    "language_info": {
      "name": "python"
    }
  },
  "cells": [
    {
      "cell_type": "code",
      "metadata": {
        "id": "EIFQutooc287",
        "colab": {
          "base_uri": "https://localhost:8080/"
        },
        "outputId": "915f13cc-e5b3-497f-eca4-6d99a48e66fc"
      },
      "source": [
        "import json\n",
        "import spacy\n",
        "import re\n",
        "import nltk\n",
        "from nltk.tokenize import word_tokenize\n",
        "from nltk import pos_tag, ne_chunk\n",
        "nltk.download('words')\n",
        "nltk.download('punkt')\n",
        "nltk.download('averaged_perceptron_tagger')\n",
        "nltk.download('maxent_ne_chunker')"
      ],
      "execution_count": 3,
      "outputs": [
        {
          "output_type": "stream",
          "name": "stdout",
          "text": [
            "[nltk_data] Downloading package words to /root/nltk_data...\n",
            "[nltk_data]   Unzipping corpora/words.zip.\n",
            "[nltk_data] Downloading package punkt to /root/nltk_data...\n",
            "[nltk_data]   Unzipping tokenizers/punkt.zip.\n",
            "[nltk_data] Downloading package averaged_perceptron_tagger to\n",
            "[nltk_data]     /root/nltk_data...\n",
            "[nltk_data]   Unzipping taggers/averaged_perceptron_tagger.zip.\n",
            "[nltk_data] Downloading package maxent_ne_chunker to\n",
            "[nltk_data]     /root/nltk_data...\n",
            "[nltk_data]   Unzipping chunkers/maxent_ne_chunker.zip.\n"
          ]
        },
        {
          "output_type": "execute_result",
          "data": {
            "text/plain": [
              "True"
            ]
          },
          "metadata": {},
          "execution_count": 3
        }
      ]
    },
    {
      "cell_type": "code",
      "metadata": {
        "id": "QqC2izeAZjZo"
      },
      "source": [
        "COLLOQUIAL_PEOPLE_AWARDS = ['cecil b. demille award', 'best actress in a motion picture - drama', 'best actor in a motion picture - drama', 'best actress in a motion picture - comedy or musical', 'best actor in a motion picture - comedy or musical', 'best supporting actress in a motion picture', 'best supporting actor in a motion picture', 'best director', 'best actress in a tv series, drama', 'best actor in a tv series, drama', 'best actress in a tv comedy or musical', 'best actor in a tv comedy or musical', 'best actress in a mini-series or tv movie', 'best actor in a mini-series or tv movie', 'best supporting actress (tv)', 'best supporting actor (tv)', 'best screenplay']"
      ],
      "execution_count": null,
      "outputs": []
    },
    {
      "cell_type": "code",
      "metadata": {
        "id": "caqiNdgekkHY"
      },
      "source": [
        "def find_nominee(award_name):\n",
        "      file_ = open('/content/drive/MyDrive/NLP/gg2013.json')\n",
        "      data = json.load(file_)\n",
        "      nominee_corpus = {}\n",
        "      #nlp = spacy.load(\"en_core_web_sm\")\n",
        "      #key words to identfy tweet potential to be a nominee\n",
        "      nominee_keywords = 'nominee|nominated|nomination|nom|deserved|deserve|deserving|robbed|beat'\n",
        "      won_keywords = 'won|win|wins|winning'+'|'+award_name+' over'\n",
        "      lost_keywords = 'lose|lost|loses'\n",
        "      negaive_keywords = 'not nominated'\n",
        "\n",
        "      #tweet checking\n",
        "      for tweet_text in data:\n",
        "        text = tweet_text['text']\n",
        "        if'rt @' in text.lower():\n",
        "          continue\n",
        "        #removing hashtags #\n",
        "        text = re.sub(\"#([A-Z])*([a-z])*\",\"\", text)\n",
        "        #removing punctuation symbols\n",
        "        #text = re.sub(r'[^\\w\\s]','',text)\n",
        "        #text = text.lower()\n",
        "        if award_name in text.lower():\n",
        "          if re.search(won_keywords,text):\n",
        "            #tweet = text[:re.search(won_keywords,text).start()]\n",
        "            tweet = text\n",
        "            person_ents = return_persons(tweet)\n",
        "            if len(person_ents) == 0:\n",
        "              continue\n",
        "            for person in person_ents:\n",
        "              if person in nominee_corpus.keys():\n",
        "                nominee_corpus[person] += 20\n",
        "              else:\n",
        "                nominee_corpus[person] = 20\n",
        "          elif re.search(lost_keywords,text):\n",
        "            #tweet = text[:re.search(lost_keywords,text).start()]\n",
        "            tweet = text\n",
        "            person_ents = return_persons(tweet)\n",
        "            if len(person_ents) == 0:\n",
        "              continue\n",
        "            for person in person_ents:\n",
        "              if person in nominee_corpus.keys():\n",
        "                nominee_corpus[person] += 20\n",
        "              else:\n",
        "                nominee_corpus[person] = 20\n",
        "          elif re.search(nominee_keywords,text) and re.search(negaive_keywords,text):\n",
        "            continue\n",
        "          elif re.search(nominee_keywords, text):\n",
        "            #tweet = text[:re.search(nominee_keywords,text).start()]\n",
        "            tweet = text\n",
        "            person_ents = return_persons(tweet)\n",
        "            if len(person_ents) == 0:\n",
        "              continue\n",
        "            for person in person_ents:\n",
        "              if person in nominee_corpus.keys():\n",
        "                nominee_corpus[person] += 10\n",
        "              else:\n",
        "                nominee_corpus[person] = 10\n",
        "          else:\n",
        "            person_ents = return_persons(text)\n",
        "            if len(person_ents) == 0:\n",
        "              continue\n",
        "            for person in person_ents:\n",
        "              if person in nominee_corpus.keys():\n",
        "                nominee_corpus[person] += 20\n",
        "              else:\n",
        "                nominee_corpus[person] = 20\n",
        "      nominee_corpus = sorted(nominee_corpus.items(),key = lambda x:-x[1])\n",
        "      #for thing in nominee_corpus:\n",
        "      #  print (thing)\n",
        "      return nominee_corpus\n",
        "\n"
      ],
      "execution_count": null,
      "outputs": []
    },
    {
      "cell_type": "code",
      "metadata": {
        "colab": {
          "base_uri": "https://localhost:8080/"
        },
        "id": "I5OjRZ5aq2tX",
        "outputId": "fe7bffe3-6f44-44da-b33b-65ea99690312"
      },
      "source": [
        "text = 'Argo man, what a film. Ben was snubbed for best director at the oscars and Steven did not even win. ridiculous  #goldenglobes'\n",
        "\n",
        "def return_persons_2_tokens(text):\n",
        "  tokens = word_tokenize(text)\n",
        "  pos = pos_tag(tokens)\n",
        "  sent = ne_chunk(pos, binary=False)\n",
        "\n",
        "  array = []\n",
        "\n",
        "  people = []\n",
        "\n",
        "  entity = \"\"\n",
        "  for tree in sent.subtrees(filter=lambda t: t.label() == \"PERSON\"):\n",
        "    for leaf in tree.leaves():\n",
        "      array.append(leaf[0])\n",
        "    if len(array) == 2:\n",
        "      for part in array:\n",
        "        entity += part + \" \"\n",
        "      if entity[:-1] not in people:\n",
        "        people.append(entity[:-1])\n",
        "      entity = \"\"\n",
        "      array = []\n",
        "  return people\n",
        "\n",
        "def return_persons_1_tokens(text):\n",
        "  tokens = word_tokenize(text)\n",
        "  pos = pos_tag(tokens)\n",
        "  sent = ne_chunk(pos, binary=False)\n",
        "\n",
        "  array = []\n",
        "\n",
        "  people = []\n",
        "\n",
        "  entity = \"\"\n",
        "  for tree in sent.subtrees(filter=lambda t: t.label() == \"PERSON\"):\n",
        "    print(tree)\n",
        "    for leaf in tree.leaves():\n",
        "      print(leaf)\n",
        "      array.append(leaf[0])\n",
        "    print(len(array))\n",
        "    if len(array) <2:\n",
        "      for part in array:\n",
        "        entity += part + \" \"\n",
        "      if entity[:-1] not in people:\n",
        "        people.append(entity[:-1])\n",
        "    entity = \"\"\n",
        "    array = []\n",
        "  return people\n",
        "\n",
        "print(return_persons_1_tokens(text))"
      ],
      "execution_count": 22,
      "outputs": [
        {
          "output_type": "stream",
          "name": "stdout",
          "text": [
            "(PERSON Ben/NNP)\n",
            "('Ben', 'NNP')\n",
            "1\n",
            "(PERSON Steven/NNP)\n",
            "('Steven', 'NNP')\n",
            "1\n",
            "['Ben', 'Steven']\n"
          ]
        }
      ]
    },
    {
      "cell_type": "code",
      "metadata": {
        "id": "LEjVFrfuS772"
      },
      "source": [
        "def really_exists(name):\n",
        "  ia = IMDb()\n",
        "  people = ia.search_person(name)\n",
        "  for person in people:\n",
        "   if person['name']==name or person['name'] in name or name in person['name']:\n",
        "      return person['name']\n",
        "  return None"
      ],
      "execution_count": null,
      "outputs": []
    },
    {
      "cell_type": "code",
      "metadata": {
        "id": "rdlzw_skRbVL",
        "colab": {
          "base_uri": "https://localhost:8080/"
        },
        "outputId": "31f52db1-b5da-4ae8-abc5-ab889ecd97af"
      },
      "source": [
        "if __name__ == '__main__':\n",
        "    #find_award_names()\n",
        "    #clean_json()\n",
        "    #nominee_texts()\n",
        "    for award in COLLOQUIAL_PEOPLE_AWARDS:\n",
        "      print('------')\n",
        "      print(award)\n",
        "      nominee_corpus = find_nominee(award)\n",
        "      count=0\n",
        "      for nominee in nominee_corpus:\n",
        "        exists = really_exists(nominee[0])\n",
        "        if (exists):\n",
        "          print(exists,nominee[1])\n",
        "          count+=1\n",
        "        if count==5:\n",
        "          break      \n",
        "      print('------')"
      ],
      "execution_count": null,
      "outputs": [
        {
          "output_type": "stream",
          "name": "stdout",
          "text": [
            "------\n",
            "cecil b. demille award\n",
            "Jodie Foster 530\n",
            "Cecil B. DeMille 280\n",
            "Robert Downey Jr. 40\n",
            "Jodi Foster 40\n",
            "Selena Gomez 20\n",
            "------\n",
            "------\n",
            "best actress in a motion picture - drama\n",
            "Jessica Chastain 260\n",
            "Naomi Watts 20\n",
            "------\n",
            "------\n",
            "best actor in a motion picture - drama\n",
            "Daniel Lewis 270\n",
            "------\n",
            "------\n",
            "best actress in a motion picture - comedy or musical\n",
            "Jennifer Lawrence 180\n",
            "------\n",
            "------\n",
            "best actor in a motion picture - comedy or musical\n",
            "Les Miserables 220\n",
            "Hugh Jackman 200\n",
            "------\n",
            "------\n",
            "best supporting actress in a motion picture\n",
            "Anne Hathaway 1000\n",
            "Les Miserables 780\n",
            "Les Mize 20\n",
            "Anne Globe 20\n",
            "------\n",
            "------\n",
            "best supporting actor in a motion picture\n",
            "Christoph Waltz 280\n",
            "------\n",
            "------\n",
            "best director\n",
            "Ben Affleck 2850\n",
            "Best Picture System 160\n",
            "Quentin Tarantino 60\n",
            "Ang Lee 40\n",
            "Jennifer Garner 40\n",
            "------\n",
            "------\n",
            "best actress in a tv series, drama\n",
            "Claire Danes 140\n",
            "------\n",
            "------\n",
            "best actor in a tv series, drama\n",
            "Damian Lewis 120\n",
            "------\n",
            "------\n",
            "best actress in a tv comedy or musical\n",
            "Lena Dunham 40\n",
            "------\n",
            "------\n",
            "best actor in a tv comedy or musical\n",
            "------\n",
            "------\n",
            "best actress in a mini-series or tv movie\n",
            "Julianne Moore 80\n",
            "Sarah Palin 20\n",
            "------\n",
            "------\n",
            "best actor in a mini-series or tv movie\n",
            "Kevin Costner 20\n",
            "Ed Harris 20\n",
            "------\n",
            "------\n",
            "best supporting actress (tv)\n",
            "Maggie Smith 40\n",
            "------\n",
            "------\n",
            "best supporting actor (tv)\n",
            "Ed Harris 20\n",
            "------\n",
            "------\n",
            "best screenplay\n",
            "Quentin Tarantino 1570\n",
            "Tony Kushner 50\n",
            "Robert Pattinson 50\n",
            "Amanda Seyfried 30\n",
            "John Williams 20\n",
            "------\n"
          ]
        }
      ]
    }
  ]
}