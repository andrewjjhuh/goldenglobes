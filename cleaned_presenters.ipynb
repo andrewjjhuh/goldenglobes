{
  "nbformat": 4,
  "nbformat_minor": 0,
  "metadata": {
    "colab": {
      "name": "Presenters.ipynb",
      "provenance": []
    },
    "kernelspec": {
      "name": "python3",
      "display_name": "Python 3"
    },
    "language_info": {
      "name": "python"
    }
  },
  "cells": [
    {
      "cell_type": "code",
      "metadata": {
        "id": "sN8ZJU5RDIJM",
        "colab": {
          "base_uri": "https://localhost:8080/"
        },
        "outputId": "79aecfdb-a177-47ea-b2f5-55431395da1a"
      },
      "source": [
        "import json\n",
        "import spacy\n",
        "import re\n",
        "import difflib as dl\n",
        "from nltk.corpus import stopwords\n",
        "import nltk\n",
        "nltk.download('stopwords')\n",
        "file_path = '/content/drive/MyDrive/NLP/gg2013.json'\n",
        "\n",
        "#source1=https://catriscode.com/2021/03/02/extracting-or-removing-mentions-and-hashtags-in-tweets-using-python/\n",
        "#source2== https://stackoverflow.com/questions/38365389/compare-similarity-between-names/38365913"
      ],
      "execution_count": 1,
      "outputs": [
        {
          "output_type": "stream",
          "name": "stdout",
          "text": [
            "[nltk_data] Downloading package stopwords to /root/nltk_data...\n",
            "[nltk_data]   Package stopwords is already up-to-date!\n"
          ]
        }
      ]
    },
    {
      "cell_type": "code",
      "metadata": {
        "colab": {
          "base_uri": "https://localhost:8080/"
        },
        "id": "9Tfx6UBjswJs",
        "outputId": "27da87d7-7b18-4fc2-88e4-f762d2ccb7b4"
      },
      "source": [
        "with open('/content/drive/MyDrive/NLP/award_names.txt') as f:\n",
        "    award_names = f.readlines()\n",
        "for i in range(len(award_names)):\n",
        "  award_names[i] = award_names[i][:-1]\n",
        "print(award_names)"
      ],
      "execution_count": 2,
      "outputs": [
        {
          "output_type": "stream",
          "name": "stdout",
          "text": [
            "['best screenplay - motion picture', 'best director - motion picture', 'best performance by an actress in a television series - comedy or musical', 'best foreign language film', 'best performance by an actor in a supporting role in a motion picture', 'best performance by an actress in a supporting role in a series, mini-series or motion picture made for television', 'best motion picture - comedy or musical', 'best performance by an actress in a motion picture - comedy or musical', 'best mini-series or motion picture made for television', 'best original score - motion picture', 'best performance by an actress in a television series - drama', 'best performance by an actress in a motion picture - drama', 'best performance by an actor in a motion picture - comedy or musical', 'best motion picture - drama', 'best performance by an actor in a supporting role in a series, mini-series or motion picture made for television', 'best performance by an actress in a supporting role in a motion picture', 'best television series - drama', 'best performance by an actor in a mini-series or motion picture made for television', 'best performance by an actress in a mini-series or motion picture made for television', 'best animated feature film', 'best original song - motion picture', 'best performance by an actor in a motion picture - drama', 'best television series - comedy or musical', 'best performance by an actor in a television series - drama', 'best performance by an actor in a television series - comedy or musical']\n"
          ]
        }
      ]
    },
    {
      "cell_type": "code",
      "metadata": {
        "colab": {
          "base_uri": "https://localhost:8080/"
        },
        "id": "2-qHab9luX2m",
        "outputId": "cec6e153-5059-4bc7-acf5-ff259386191e"
      },
      "source": [
        "stop_words = list(stopwords.words('english'))\n",
        "stop_words.append(' - ')\n",
        "cleaned_award_names= []\n",
        "for award in award_names:\n",
        "  cleaned_award = ''\n",
        "  for word in award.split():\n",
        "    if word not in stop_words and word != '-':\n",
        "      cleaned_award+=word+' '\n",
        "  cleaned_award_names.append(cleaned_award[:-1])\n",
        "\n",
        "print(cleaned_award_names)"
      ],
      "execution_count": 3,
      "outputs": [
        {
          "output_type": "stream",
          "name": "stdout",
          "text": [
            "['best screenplay motion picture', 'best director motion picture', 'best performance actress television series comedy musical', 'best foreign language film', 'best performance actor supporting role motion picture', 'best performance actress supporting role series, mini-series motion picture made television', 'best motion picture comedy musical', 'best performance actress motion picture comedy musical', 'best mini-series motion picture made television', 'best original score motion picture', 'best performance actress television series drama', 'best performance actress motion picture drama', 'best performance actor motion picture comedy musical', 'best motion picture drama', 'best performance actor supporting role series, mini-series motion picture made television', 'best performance actress supporting role motion picture', 'best television series drama', 'best performance actor mini-series motion picture made television', 'best performance actress mini-series motion picture made television', 'best animated feature film', 'best original song motion picture', 'best performance actor motion picture drama', 'best television series comedy musical', 'best performance actor television series drama', 'best performance actor television series comedy musical']\n"
          ]
        }
      ]
    },
    {
      "cell_type": "code",
      "metadata": {
        "id": "sSNrtUekDMwp"
      },
      "source": [
        "f = open(file_path)\n",
        "data = json.load(f)\n",
        "nlp = spacy.load(\"en_core_web_sm\")\n",
        "tweet_texts = []\n",
        "\n",
        "for tweet in data:\n",
        "  cleaned_tweet = re.sub('#([a-zA-Z0-9_]{1,50})', '', tweet['text'])\n",
        "  cleaned_tweet = re.sub('@([a-zA-Z0-9_]{1,50})', '', cleaned_tweet)\n",
        "  #cleaned_tweet = cleaned_tweet.lower()\n",
        "  if 'rt @' not in cleaned_tweet:\n",
        "    tweet_texts.append(cleaned_tweet)"
      ],
      "execution_count": 4,
      "outputs": []
    },
    {
      "cell_type": "code",
      "metadata": {
        "colab": {
          "base_uri": "https://localhost:8080/"
        },
        "id": "DJ0nMdf4_EJe",
        "outputId": "0481ebaf-4379-4056-b1ae-206687d74adc"
      },
      "source": [
        "def check_keyword(tweet_text,award_words):\n",
        "  \n",
        "  for award_word in award_words.split():\n",
        "    if award_word not in tweet_text and award_word != '-':\n",
        "      return False\n",
        "  return True\n",
        "\n",
        "print(check_keyword('nihaal subhash narayanan','nihaal narayanan'))"
      ],
      "execution_count": 5,
      "outputs": [
        {
          "output_type": "stream",
          "name": "stdout",
          "text": [
            "True\n"
          ]
        }
      ]
    },
    {
      "cell_type": "code",
      "metadata": {
        "colab": {
          "base_uri": "https://localhost:8080/"
        },
        "id": "YdxCIdnpsNsu",
        "outputId": "88f1d444-ccdb-42ce-dcf2-db409c6e2a89"
      },
      "source": [
        "presenter_key_words = 'present|intro|announce|gave|presenters|presenter|presenting'\n",
        "\n",
        "for award in cleaned_award_names[:]:\n",
        "  hosts = {}\n",
        "  for tweet_text in tweet_texts[:]:\n",
        "    presenter_key_words_index = re.search(presenter_key_words,tweet_text.lower())\n",
        "    #print(tweet_text)\n",
        "    #print(award)\n",
        "    if presenter_key_words_index and check_keyword(tweet_text.lower(),award.lower()):\n",
        "      doc = nlp(tweet_text[:presenter_key_words_index.start()])\n",
        "      for entity in doc.ents:\n",
        "        if entity.label_ == 'PERSON':\n",
        "          #print(tweet_text)\n",
        "          #print()\n",
        "          if entity.text in hosts.keys():\n",
        "            hosts[entity.text] = hosts[entity.text] + 1\n",
        "          else:\n",
        "            hosts[entity.text] = 1\n",
        "\n",
        "  hosts = dict(sorted(hosts.items(),key = lambda host:host[1],reverse=True))\n",
        "  if (len(hosts.keys())!=0):\n",
        "    print(award,end= ' : ')\n",
        "    print(list(hosts.keys())[:2])\n",
        "    print()"
      ],
      "execution_count": 6,
      "outputs": [
        {
          "output_type": "stream",
          "name": "stdout",
          "text": [
            "best screenplay motion picture : ['Robert Pattinson', 'Amanda Seyfried']\n",
            "\n",
            "best foreign language film : ['Sylvester Stallone', 'Arnold Schwarzenegger']\n",
            "\n",
            "best motion picture comedy musical : ['Dustin Hoffman']\n",
            "\n",
            "best original score motion picture : ['Jason Statham']\n",
            "\n",
            "best motion picture drama : ['Bill Clinton', 'Julia Roberts']\n",
            "\n",
            "best animated feature film : ['Cohen']\n",
            "\n"
          ]
        }
      ]
    }
  ]
}