{
  "nbformat": 4,
  "nbformat_minor": 0,
  "metadata": {
    "colab": {
      "name": "Presentersv2.ipynb",
      "provenance": [],
      "collapsed_sections": []
    },
    "kernelspec": {
      "name": "python3",
      "display_name": "Python 3"
    },
    "language_info": {
      "name": "python"
    }
  },
  "cells": [
    {
      "cell_type": "code",
      "metadata": {
        "id": "sN8ZJU5RDIJM",
        "colab": {
          "base_uri": "https://localhost:8080/"
        },
        "outputId": "a73438d2-6145-464b-cd2b-fa6e8f1bbd10"
      },
      "source": [
        "import json\n",
        "import spacy\n",
        "import re\n",
        "import difflib as dl\n",
        "from nltk.corpus import stopwords\n",
        "import nltk\n",
        "nltk.download('stopwords')"
      ],
      "execution_count": 32,
      "outputs": [
        {
          "output_type": "stream",
          "name": "stdout",
          "text": [
            "[nltk_data] Downloading package stopwords to /root/nltk_data...\n",
            "[nltk_data]   Package stopwords is already up-to-date!\n"
          ]
        },
        {
          "output_type": "execute_result",
          "data": {
            "text/plain": [
              "True"
            ]
          },
          "metadata": {},
          "execution_count": 32
        }
      ]
    },
    {
      "cell_type": "code",
      "metadata": {
        "id": "9Tfx6UBjswJs"
      },
      "source": [
        "def read_award_names_from_file(file):\n",
        "  with open(file) as f:\n",
        "    award_names = f.readlines()\n",
        "  for i in range(len(award_names)):\n",
        "    award_names[i] = award_names[i][:-1]\n",
        "  return award_names"
      ],
      "execution_count": 33,
      "outputs": []
    },
    {
      "cell_type": "code",
      "metadata": {
        "id": "2-qHab9luX2m"
      },
      "source": [
        "def clean_award_name(award_name):\n",
        "  mystop_words = stopwords.words('english')\n",
        "  mystop_words.extend(['performance','made','-','congrats','congratulations','got','knows','well','well-','hell','yeah','go'])\n",
        "  #removes stopwords from award name and returns key words in award name as list\n",
        "  award_name = award_name.lower()\n",
        "  cleaned_award = []\n",
        "  split = award_name.split()\n",
        "  for word in split:\n",
        "    if word not in mystop_words and word not in ['motion','picture','series,','series','role']:  # Many words are irrelevant, removed with list of stopwords\n",
        "      cleaned_award.append(word)\n",
        "      if word == 'television':  # Usually television is shortened to tv, want to account for both\n",
        "        cleaned_award.append('tv')\n",
        "  return cleaned_award"
      ],
      "execution_count": 34,
      "outputs": []
    },
    {
      "cell_type": "code",
      "metadata": {
        "id": "sSNrtUekDMwp"
      },
      "source": [
        "def open_jsonfile(data_path):\n",
        "  file_ = open(data_path)\n",
        "  data = json.load(file_)\n",
        "  return data"
      ],
      "execution_count": 35,
      "outputs": []
    },
    {
      "cell_type": "code",
      "metadata": {
        "id": "DJ0nMdf4_EJe"
      },
      "source": [
        "def award_relevant_tweets(tweet_data, award_keywords):\n",
        "  relevant_tweets = []\n",
        "  for tweet in tweet_data:\n",
        "    text = tweet['text']\n",
        "    text = text.lower()\n",
        "    tweet_text = tweet['text']\n",
        "    tweet_text.replace('-',' ')\n",
        "    tweet_text.replace('/',' ')\n",
        "    if 'rt @' in text:\n",
        "      continue\n",
        "    if 'tv' in award_keywords and not re.search('tv|television|series',text):\n",
        "      continue\n",
        "    if 'tv' not in award_keywords and re.search('tv|television|series',text):\n",
        "      continue\n",
        "    check = 0\n",
        "    for key_word in award_keywords:\n",
        "      if key_word not in text:\n",
        "        check +=1\n",
        "    if 'tv' in award_keywords:\n",
        "      if check <2:\n",
        "        relevant_tweets.append(tweet_text)\n",
        "    else:\n",
        "      if check ==0:\n",
        "        relevant_tweets.append(tweet_text)\n",
        "  return relevant_tweets"
      ],
      "execution_count": 36,
      "outputs": []
    },
    {
      "cell_type": "code",
      "metadata": {
        "colab": {
          "base_uri": "https://localhost:8080/"
        },
        "id": "YdxCIdnpsNsu",
        "outputId": "a0de927e-7e4b-483a-b6df-6b5f7c9cfaf2"
      },
      "source": [
        "presenter_key_words = 'present|intro|announce|gave|presenters|presenter|presenting|introducing'\n",
        "award_names = read_award_names_from_file('/content/drive/MyDrive/NLP/award_names.txt')\n",
        "cleaned_award_names = []\n",
        "for i in range(len(award_names)):\n",
        "  cleaned_award_names.append(clean_award_name(award_names[i]))\n",
        "tweet_data = open_jsonfile('/content/drive/MyDrive/NLP/gg2013.json')\n",
        "\n",
        "for award in cleaned_award_names:\n",
        "  hosts = {}\n",
        "  award_tweets = award_relevant_tweets(tweet_data,award)\n",
        "  for tweet_text in award_tweets:\n",
        "    presenter_key_words_index = re.search(presenter_key_words,tweet_text.lower())\n",
        "    if presenter_key_words_index:\n",
        "      doc = nlp(tweet_text[:presenter_key_words_index.start()])\n",
        "      for entity in doc.ents:\n",
        "        if entity.label_ == 'PERSON':\n",
        "          if entity.text in hosts.keys():\n",
        "            hosts[entity.text] = hosts[entity.text] + 1\n",
        "          else:\n",
        "            hosts[entity.text] = 1\n",
        "\n",
        "  hosts = dict(sorted(hosts.items(),key = lambda host:host[1],reverse=True))\n",
        "  if (len(hosts.keys())!=0):\n",
        "    print(award,end= ' : ')\n",
        "    print(list(hosts.keys())[:2])\n",
        "    print()"
      ],
      "execution_count": 37,
      "outputs": [
        {
          "output_type": "stream",
          "name": "stdout",
          "text": [
            "['best', 'screenplay'] : ['Robert Pattinson', 'Amanda Seyfried']\n",
            "\n",
            "['best', 'director'] : ['Halle Berry', 'Ben Affleck - Argo']\n",
            "\n",
            "['best', 'foreign', 'language', 'film'] : ['Sylvester Stallone', 'Arnold Schwarzenegger']\n",
            "\n",
            "['best', 'actor', 'supporting'] : ['Bradley Cooper', 'Kate Hudson']\n",
            "\n",
            "['best', 'actress', 'supporting', 'mini-series', 'television', 'tv'] : ['Dennis Quaid', 'Kerry Washington']\n",
            "\n",
            "['best', 'comedy', 'musical'] : ['GoldenGlobes', 'Will Ferrell']\n",
            "\n",
            "['best', 'actress', 'comedy', 'musical'] : ['GoldenGlobes', 'Will Ferrell']\n",
            "\n",
            "['best', 'mini-series', 'television', 'tv'] : ['Dennis Quaid', 'Kerry Washington']\n",
            "\n",
            "['best', 'original', 'score'] : ['Toronto']\n",
            "\n",
            "['best', 'actress', 'television', 'tv', 'drama'] : ['Lea Michele']\n",
            "\n",
            "['best', 'drama'] : ['GoldenGlobes', 'Bradley Cooper']\n",
            "\n",
            "['best', 'actress', 'supporting'] : ['Anne Hathaway', 'Robert Pattinson']\n",
            "\n",
            "['best', 'television', 'tv', 'drama'] : ['Lea Michele']\n",
            "\n",
            "['best', 'actress', 'mini-series', 'television', 'tv'] : ['Dennis Quaid', 'Kerry Washington']\n",
            "\n",
            "['best', 'original', 'song'] : ['Adele', 'J. Lo']\n",
            "\n",
            "['best', 'actor', 'drama'] : ['Bradley Cooper', 'Jennifer Lawrence']\n",
            "\n",
            "['best', 'television', 'tv', 'comedy', 'musical'] : ['Jay Leno', 'Jimmy Fallon']\n",
            "\n"
          ]
        }
      ]
    },
    {
      "cell_type": "code",
      "metadata": {
        "id": "m7xOAKkD3eFS"
      },
      "source": [
        ""
      ],
      "execution_count": null,
      "outputs": []
    }
  ]
}
